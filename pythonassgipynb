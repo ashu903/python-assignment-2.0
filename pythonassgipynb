{
 "cells": [
  {
   "cell_type": "code",
   "execution_count": 2,
   "id": "dde01cc2-3c40-4ee1-b40d-870a19d7dfcb",
   "metadata": {},
   "outputs": [
    {
     "name": "stdout",
     "output_type": "stream",
     "text": [
      "Hello, World!\n",
      "[1, 2, 3, 4, 5]\n",
      "3.14\n",
      "(1, 2, 3, 4, 5)\n"
     ]
    }
   ],
   "source": [
    "#  Q1. Create one variable containing following type of data:\n",
    "\"\"\"(i) string\n",
    "(ii) list\n",
    "(iii) float\n",
    "(iv) tuple\"\"\"\n",
    "\n",
    "# Ans - \n",
    "\n",
    "# (i) String\n",
    "x = (\"Hello, World!\")\n",
    "print(x)\n",
    "# (ii) List\n",
    "y= [1, 2, 3, 4, 5]\n",
    "print(y)\n",
    "# (iii) Float\n",
    "w =(3.14)\n",
    "print(w)\n",
    "# (iv) Tuple\n",
    "z= (1, 2, 3, 4, 5)\n",
    "print(z)\n"
   ]
  },
  {
   "cell_type": "code",
   "execution_count": 19,
   "id": "e37376d5-1c1e-4beb-bc97-836a78dba59c",
   "metadata": {},
   "outputs": [
    {
     "name": "stdout",
     "output_type": "stream",
     "text": [
      "<class 'str'>\n",
      "<class 'list'>\n",
      "<class 'list'>\n",
      "<class 'int'>\n"
     ]
    }
   ],
   "source": [
    "# 2. Q2. Given are some following variables containing data:\n",
    "#(i) var = ''\n",
    "#(ii) var2 = ‘[ DS , ML , Python]’\n",
    "#(iii) var3 = [ 'DS' , 'ML' , 'Python']\n",
    "#(iv) var4 = 1\n",
    "# What will be the data type of the above given variable.\n",
    "\n",
    "# Ans - \n",
    "var1 = ''\n",
    "print(type(var1))\n",
    "var2 = [ 'DS' , 'ML' , 'Python']\n",
    "print(type(var2))\n",
    "var3 = [ 'DS' , 'ML' , 'Python']\n",
    "print(type(var3))\n",
    "var4 = 1\n",
    "print(type(var4))"
   ]
  },
  {
   "cell_type": "code",
   "execution_count": 23,
   "id": "59690c8a-1d7f-4f8c-ad47-a51f6b6fa018",
   "metadata": {},
   "outputs": [
    {
     "name": "stdout",
     "output_type": "stream",
     "text": [
      "3.3333333333333335\n",
      "1\n",
      "3\n",
      "8\n"
     ]
    }
   ],
   "source": [
    "# 3. Q3. Explain the use of the following operators using an example:\n",
    "'''(i) /\n",
    "(ii) %\n",
    "(iii) //\n",
    "(iv) ** '''\n",
    "\n",
    "# Ans - \n",
    "# (1)\n",
    "a = 10\n",
    "b = 3\n",
    "result = a / b\n",
    "print(result) \n",
    "\n",
    "# (2)\n",
    "a = 10\n",
    "b = 3\n",
    "remainder = a % b\n",
    "print(remainder)\n",
    "\n",
    "#(3)\n",
    "a = 10\n",
    "b = 3\n",
    "result = a // b\n",
    "print(result)\n",
    "\n",
    "# (4)\n",
    "a = 2\n",
    "b = 3\n",
    "result = a ** b\n",
    "print(result)"
   ]
  },
  {
   "cell_type": "code",
   "execution_count": 24,
   "id": "f5b2b271-f382-4982-b233-b2b88d5e0f22",
   "metadata": {},
   "outputs": [
    {
     "name": "stdout",
     "output_type": "stream",
     "text": [
      "Element: 10 , Data Type: <class 'int'>\n",
      "Element: Hello , Data Type: <class 'str'>\n",
      "Element: 3.14 , Data Type: <class 'float'>\n",
      "Element: True , Data Type: <class 'bool'>\n",
      "Element: [1, 2, 3] , Data Type: <class 'list'>\n",
      "Element: {'a': 1, 'b': 2} , Data Type: <class 'dict'>\n",
      "Element: (4, 5, 6) , Data Type: <class 'tuple'>\n",
      "Element: None , Data Type: <class 'NoneType'>\n",
      "Element: World , Data Type: <class 'str'>\n",
      "Element: 5 , Data Type: <class 'int'>\n"
     ]
    }
   ],
   "source": [
    "# 4. Create a list of length 10 of your choice containing multiple types of data. Using for loop print the elements and its data type.\n",
    "# ans- \n",
    "my_list = [10, \"Hello\", 3.14, True, [1, 2, 3], {'a': 1, 'b': 2}, (4, 5, 6), None, \"World\", 5]\n",
    "for element in my_list:\n",
    "    print(\"Element:\", element, \", Data Type:\", type(element))\n",
    "\n",
    "\n",
    "\n"
   ]
  },
  {
   "cell_type": "code",
   "execution_count": 26,
   "id": "faf866f4-d63f-49bc-baec-795d9e8c1466",
   "metadata": {},
   "outputs": [
    {
     "name": "stdin",
     "output_type": "stream",
     "text": [
      "Enter number A:  10\n",
      "Enter number B:  2\n"
     ]
    },
    {
     "name": "stdout",
     "output_type": "stream",
     "text": [
      "Number A is purely divisible by number B.\n",
      "It can be divided 1 times.\n"
     ]
    }
   ],
   "source": [
    "# 5. Using a while loop, verify if the number A is purely divisible by number B and if so then how many times it can be divisible.\n",
    "# Ans-\n",
    "A = int(input(\"Enter number A: \"))\n",
    "B = int(input(\"Enter number B: \"))\n",
    "\n",
    "count = 0\n",
    "while A % B == 0:\n",
    "    A /= B\n",
    "    count += 1\n",
    "if count > 0:\n",
    "    print(\"Number A is purely divisible by number B.\")\n",
    "    print(\"It can be divided\", count, \"times.\")\n",
    "else:\n",
    "    print(\"Number A is not purely divisible by number B.\")\n"
   ]
  },
  {
   "cell_type": "code",
   "execution_count": 32,
   "id": "bcf4f768-4486-48b1-9617-a42dac516052",
   "metadata": {},
   "outputs": [
    {
     "name": "stdout",
     "output_type": "stream",
     "text": [
      "1 is not divisible by 3\n",
      "2 is not divisible by 3\n",
      "3 is divisible by 3\n",
      "4 is not divisible by 3\n",
      "5 is not divisible by 3\n",
      "6 is divisible by 3\n",
      "7 is not divisible by 3\n",
      "8 is not divisible by 3\n",
      "9 is divisible by 3\n",
      "10 is not divisible by 3\n",
      "11 is not divisible by 3\n",
      "12 is divisible by 3\n",
      "13 is not divisible by 3\n",
      "14 is not divisible by 3\n",
      "15 is divisible by 3\n",
      "16 is not divisible by 3\n",
      "17 is not divisible by 3\n",
      "18 is divisible by 3\n",
      "19 is not divisible by 3\n",
      "20 is not divisible by 3\n",
      "21 is divisible by 3\n",
      "22 is not divisible by 3\n",
      "23 is not divisible by 3\n",
      "24 is divisible by 3\n",
      "25 is not divisible by 3\n"
     ]
    }
   ],
   "source": [
    "# 6. Create a list containing 25 int type data. Using for loop and if-else condition print if the element is divisible by 3 or not.\n",
    "# Ans-\n",
    "integer_list = list(range(1, 26))\n",
    "for num in integer_list:\n",
    "    if num % 3 == 0:\n",
    "        print(f\"{num} is divisible by 3\")\n",
    "    else:\n",
    "        print(f\"{num} is not divisible by 3\")\n"
   ]
  },
  {
   "cell_type": "code",
   "execution_count": null,
   "id": "4b3d9c86-6a6d-4f1a-89dc-6167c236f0c7",
   "metadata": {},
   "outputs": [],
   "source": [
    "# 7. What do you understand about mutable and immutable data types? Give examples for both showing this property.\n",
    "# Ans- \n",
    "x = [1, 2, 3]\n",
    "y = {'a': 1, 'b': 2}\n",
    "x[0] = 10\n",
    "y['c'] = 3\n",
    "\n",
    "print(x)  # Output: [10, 2, 3]\n",
    "print(y)  # Output: {'a': 1, 'b': 2, 'c': 3}\n"
   ]
  }
 ],
 "metadata": {
  "kernelspec": {
   "display_name": "Python 3 (ipykernel)",
   "language": "python",
   "name": "python3"
  },
  "language_info": {
   "codemirror_mode": {
    "name": "ipython",
    "version": 3
   },
   "file_extension": ".py",
   "mimetype": "text/x-python",
   "name": "python",
   "nbconvert_exporter": "python",
   "pygments_lexer": "ipython3",
   "version": "3.10.8"
  }
 },
 "nbformat": 4,
 "nbformat_minor": 5
}
